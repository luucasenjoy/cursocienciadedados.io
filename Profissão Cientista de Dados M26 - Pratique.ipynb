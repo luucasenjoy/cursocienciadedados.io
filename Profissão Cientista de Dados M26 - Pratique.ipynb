{
 "cells": [
  {
   "cell_type": "markdown",
   "metadata": {},
   "source": [
    "# Tarefa - Álgebra Linear\n",
    "\n",
    "A célula abaixo gera dados de notas de duas provas, p1 e p2, conforme em aula, mas com mais alunos.\n",
    "\n",
    "## 1. Reduzindo correlações\n",
    "\n",
    "a) Já vimos que expressar os dados através da média e diferença é uma transformação linear. Obtenha a média e a diferença através de uma multiplicação matricial, conforme visto em aula.\n",
    "\n",
    "b) Calcule a correlação entre os dados da **p1** e **p2**\n",
    "\n",
    "c) Calcule a correlação entre os dados transformados (média e diferença)\n",
    "\n",
    "d) Comente as correlações observadas."
   ]
  },
  {
   "cell_type": "code",
   "execution_count": 1,
   "metadata": {},
   "outputs": [],
   "source": [
    "import pandas as pd\n",
    "import seaborn as sns\n",
    "import numpy as np\n",
    "import matplotlib.pyplot as plt\n",
    "\n",
    "%matplotlib inline\n",
    "\n",
    "# Gerando os dados\n",
    "np.random.seed(123)\n",
    "\n",
    "p1 = np.random.random(50) *10\n",
    "p1[p1>10] = 10\n",
    "p1[p1<0] = 0\n",
    "\n",
    "p2 = p1 + np.random.normal(0,1,50)\n",
    "p2[p2>10] = 10\n",
    "p2[p2<0] = 0\n",
    "\n",
    "df = pd.DataFrame({'p1': p1, 'p2': p2})"
   ]
  },
  {
   "cell_type": "code",
   "execution_count": 3,
   "metadata": {},
   "outputs": [
    {
     "name": "stdout",
     "output_type": "stream",
     "text": [
      "Correlação entre p1 e p2: 0.8957365818728046\n"
     ]
    }
   ],
   "source": [
    "T = np.array([[0.5, 0.5],\n",
    "              [1.0, -1.0]])\n",
    "\n",
    "original = df[['p1', 'p2']].to_numpy().T \n",
    "transformed = T @ original  \n",
    "\n",
    "df['media'] = transformed[0]\n",
    "df['diferenca'] = transformed[1]\n",
    "\n",
    "cor_p1_p2 = df['p1'].corr(df['p2'])\n",
    "print(\"Correlação entre p1 e p2:\", cor_p1_p2)"
   ]
  },
  {
   "cell_type": "code",
   "execution_count": 4,
   "metadata": {},
   "outputs": [
    {
     "name": "stdout",
     "output_type": "stream",
     "text": [
      "Correlação entre média e diferença: -0.13347385411788837\n"
     ]
    }
   ],
   "source": [
    "cor_media_dif = df['media'].corr(df['diferenca'])\n",
    "print(\"Correlação entre média e diferença:\", cor_media_dif)"
   ]
  },
  {
   "cell_type": "markdown",
   "metadata": {},
   "source": [
    "A correlação entre p1 e p2 deve ser positiva e alta, pois p2 foi gerada como p1 + ruído normal (com pequena variância).\n",
    "\n",
    "A transformação linear (média e diferença) foi projetada para reduzir a correlação — ou seja, média e diferença devem ser quase não correlacionadas, possivelmente próximas de zero."
   ]
  },
  {
   "cell_type": "markdown",
   "metadata": {},
   "source": [
    "## 2. Soma e diferença\n",
    "\n",
    "Realize agora uma transformação semelhante, mas que ao invés da média, dê a soma da **p1** e **p2**. Construa o gráfico e conclua que diferenças visuais você observa."
   ]
  },
  {
   "cell_type": "code",
   "execution_count": 5,
   "metadata": {},
   "outputs": [
    {
     "data": {
      "image/png": "[encoded data removed]",
      "text/plain": [
       "<Figure size 800x600 with 1 Axes>"
      ]
     },
     "metadata": {},
     "output_type": "display_data"
    }
   ],
   "source": [
    "np.random.seed(123)\n",
    "\n",
    "p1 = np.random.random(50) * 10\n",
    "p2 = p1 + np.random.normal(0, 1, 50)\n",
    "p1 = np.clip(p1, 0, 10)\n",
    "p2 = np.clip(p2, 0, 10)\n",
    "\n",
    "df = pd.DataFrame({'p1': p1, 'p2': p2})\n",
    "\n",
    "T_soma_dif = np.array([[1, 1],\n",
    "                       [1, -1]])\n",
    "\n",
    "original = df[['p1', 'p2']].to_numpy().T  \n",
    "transformed_soma_dif = T_soma_dif @ original\n",
    "\n",
    "df['soma'] = transformed_soma_dif[0]\n",
    "df['diferenca'] = transformed_soma_dif[1]\n",
    "\n",
    "plt.figure(figsize=(8,6))\n",
    "sns.scatterplot(x='soma', y='diferenca', data=df)\n",
    "plt.title('Transformação: Soma vs Diferença')\n",
    "plt.xlabel('Soma (p1 + p2)')\n",
    "plt.ylabel('Diferença (p1 - p2)')\n",
    "plt.grid(True)\n",
    "plt.show()"
   ]
  },
  {
   "cell_type": "markdown",
   "metadata": {},
   "source": [
    "A transformação para soma e diferença reorganiza os dados num novo plano.\n",
    "Visualmente, agora é mais fácil ver quem teve desempenho total semelhante (mesma soma) e quem teve desequilíbrio entre as notas (valores extremos de diferença)."
   ]
  },
  {
   "cell_type": "code",
   "execution_count": null,
   "metadata": {},
   "outputs": [],
   "source": []
  }
 ],
 "metadata": {
  "kernelspec": {
   "display_name": "Python [conda env:base] *",
   "language": "python",
   "name": "conda-base-py"
  },
  "language_info": {
   "codemirror_mode": {
    "name": "ipython",
    "version": 3
   },
   "file_extension": ".py",
   "mimetype": "text/x-python",
   "name": "python",
   "nbconvert_exporter": "python",
   "pygments_lexer": "ipython3",
   "version": "3.12.7"
  },
  "toc": {
   "base_numbering": 1,
   "nav_menu": {},
   "number_sections": false,
   "sideBar": true,
   "skip_h1_title": false,
   "title_cell": "Índice",
   "title_sidebar": "Conteúdo",
   "toc_cell": false,
   "toc_position": {
    "height": "calc(100% - 180px)",
    "left": "10px",
    "top": "150px",
    "width": "257.6px"
   },
   "toc_section_display": true,
   "toc_window_display": false
  },
  "varInspector": {
   "cols": {
    "lenName": 16,
    "lenType": 16,
    "lenVar": 40
   },
   "kernels_config": {
    "python": {
     "delete_cmd_postfix": "",
     "delete_cmd_prefix": "del ",
     "library": "var_list.py",
     "varRefreshCmd": "print(var_dic_list())"
    },
    "r": {
     "delete_cmd_postfix": ") ",
     "delete_cmd_prefix": "rm(",
     "library": "var_list.r",
     "varRefreshCmd": "cat(var_dic_list()) "
    }
   },
   "types_to_exclude": [
    "module",
    "function",
    "builtin_function_or_method",
    "instance",
    "_Feature"
   ],
   "window_display": false
  }
 },
 "nbformat": 4,
 "nbformat_minor": 4
}
