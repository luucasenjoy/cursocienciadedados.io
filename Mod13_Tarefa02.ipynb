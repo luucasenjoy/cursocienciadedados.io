{
 "cells": [
  {
   "cell_type": "markdown",
   "metadata": {},
   "source": [
    "# EBAC - Regressão II - regressão múltipla\n",
    "\n",
    "## Tarefa I"
   ]
  },
  {
   "cell_type": "markdown",
   "metadata": {},
   "source": [
    "#### Previsão de renda II\n",
    "\n",
    "Vamos continuar trabalhando com a base 'previsao_de_renda.csv', que é a base do seu próximo projeto. Vamos usar os recursos que vimos até aqui nesta base.\n",
    "\n",
    "|variavel|descrição|\n",
    "|-|-|\n",
    "|data_ref                | Data de referência de coleta das variáveis |\n",
    "|index                   | Código de identificação do cliente|\n",
    "|sexo                    | Sexo do cliente|\n",
    "|posse_de_veiculo        | Indica se o cliente possui veículo|\n",
    "|posse_de_imovel         | Indica se o cliente possui imóvel|\n",
    "|qtd_filhos              | Quantidade de filhos do cliente|\n",
    "|tipo_renda              | Tipo de renda do cliente|\n",
    "|educacao                | Grau de instrução do cliente|\n",
    "|estado_civil            | Estado civil do cliente|\n",
    "|tipo_residencia         | Tipo de residência do cliente (própria, alugada etc)|\n",
    "|idade                   | Idade do cliente|\n",
    "|tempo_emprego           | Tempo no emprego atual|\n",
    "|qt_pessoas_residencia   | Quantidade de pessoas que moram na residência|\n",
    "|renda                   | Renda em reais|"
   ]
  },
  {
   "cell_type": "code",
   "execution_count": 6,
   "metadata": {},
   "outputs": [],
   "source": [
    "import pandas as pd\n",
    "import numpy as np\n",
    "from sklearn.model_selection import train_test_split, cross_val_score\n",
    "from sklearn.linear_model import RidgeCV, LassoCV, LinearRegression\n",
    "from sklearn.metrics import r2_score\n",
    "from sklearn.tree import DecisionTreeRegressor\n",
    "import patsy\n",
    "import statsmodels.api as sm\n",
    "from sklearn.preprocessing import StandardScaler"
   ]
  },
  {
   "cell_type": "code",
   "execution_count": 3,
   "metadata": {},
   "outputs": [],
   "source": [
    "df = pd.read_csv('previsao_de_renda.csv')"
   ]
  },
  {
   "cell_type": "code",
   "execution_count": 4,
   "metadata": {},
   "outputs": [
    {
     "name": "stdout",
     "output_type": "stream",
     "text": [
      "<class 'pandas.core.frame.DataFrame'>\n",
      "RangeIndex: 15000 entries, 0 to 14999\n",
      "Data columns (total 16 columns):\n",
      " #   Column                 Non-Null Count  Dtype  \n",
      "---  ------                 --------------  -----  \n",
      " 0   Unnamed: 0             15000 non-null  int64  \n",
      " 1   data_ref               15000 non-null  object \n",
      " 2   index                  15000 non-null  int64  \n",
      " 3   sexo                   15000 non-null  object \n",
      " 4   posse_de_veiculo       15000 non-null  bool   \n",
      " 5   posse_de_imovel        15000 non-null  bool   \n",
      " 6   qtd_filhos             15000 non-null  int64  \n",
      " 7   tipo_renda             15000 non-null  object \n",
      " 8   educacao               15000 non-null  object \n",
      " 9   estado_civil           15000 non-null  object \n",
      " 10  tipo_residencia        15000 non-null  object \n",
      " 11  idade                  15000 non-null  int64  \n",
      " 12  tempo_emprego          12466 non-null  float64\n",
      " 13  qt_pessoas_residencia  15000 non-null  float64\n",
      " 14  mau                    15000 non-null  bool   \n",
      " 15  renda                  15000 non-null  float64\n",
      "dtypes: bool(3), float64(3), int64(4), object(6)\n",
      "memory usage: 1.5+ MB\n"
     ]
    }
   ],
   "source": [
    "df.info()"
   ]
  },
  {
   "cell_type": "markdown",
   "metadata": {},
   "source": [
    "1. Separe a base em treinamento e teste (25% para teste, 75% para treinamento).\n",
    "2. Rode uma regularização *ridge* com alpha = [0, 0.001, 0.005, 0.01, 0.05, 0.1] e avalie o $R^2$ na base de testes. Qual o melhor modelo?\n",
    "3. Faça o mesmo que no passo 2, com uma regressão *LASSO*. Qual método chega a um melhor resultado?\n",
    "4. Rode um modelo *stepwise*. Avalie o $R^2$ na vase de testes. Qual o melhor resultado?\n",
    "5. Compare os parâmetros e avalie eventuais diferenças. Qual modelo você acha o melhor de todos?\n",
    "6. Partindo dos modelos que você ajustou, tente melhorar o $R^2$ na base de testes. Use a criatividade, veja se consegue inserir alguma transformação ou combinação de variáveis.\n",
    "7. Ajuste uma árvore de regressão e veja se consegue um $R^2$ melhor com ela."
   ]
  },
  {
   "cell_type": "code",
   "execution_count": 9,
   "metadata": {},
   "outputs": [
    {
     "name": "stdout",
     "output_type": "stream",
     "text": [
      "Ridge - Melhor alpha: 0.1000 | R² teste: 0.2321\n",
      "Lasso - Melhor alpha: 0.0050 | R² teste: 0.2331\n"
     ]
    },
    {
     "name": "stderr",
     "output_type": "stream",
     "text": [
      "C:\\Users\\lukas\\anaconda3\\Lib\\site-packages\\sklearn\\linear_model\\_coordinate_descent.py:683: UserWarning: Coordinate descent without L1 regularization may lead to unexpected results and is discouraged. Set l1_ratio > 0 to add L1 regularization.\n",
      "  model = cd_fast.enet_coordinate_descent_gram(\n",
      "C:\\Users\\lukas\\anaconda3\\Lib\\site-packages\\sklearn\\linear_model\\_coordinate_descent.py:683: ConvergenceWarning: Objective did not converge. You might want to increase the number of iterations. Duality gap: 1793.868349967292, tolerance: 0.4763234866940377\n",
      "  model = cd_fast.enet_coordinate_descent_gram(\n",
      "C:\\Users\\lukas\\anaconda3\\Lib\\site-packages\\sklearn\\linear_model\\_coordinate_descent.py:683: UserWarning: Coordinate descent without L1 regularization may lead to unexpected results and is discouraged. Set l1_ratio > 0 to add L1 regularization.\n",
      "  model = cd_fast.enet_coordinate_descent_gram(\n",
      "C:\\Users\\lukas\\anaconda3\\Lib\\site-packages\\sklearn\\linear_model\\_coordinate_descent.py:683: ConvergenceWarning: Objective did not converge. You might want to increase the number of iterations. Duality gap: 1793.11100979381, tolerance: 0.4728395701757648\n",
      "  model = cd_fast.enet_coordinate_descent_gram(\n",
      "C:\\Users\\lukas\\anaconda3\\Lib\\site-packages\\sklearn\\linear_model\\_coordinate_descent.py:683: UserWarning: Coordinate descent without L1 regularization may lead to unexpected results and is discouraged. Set l1_ratio > 0 to add L1 regularization.\n",
      "  model = cd_fast.enet_coordinate_descent_gram(\n",
      "C:\\Users\\lukas\\anaconda3\\Lib\\site-packages\\sklearn\\linear_model\\_coordinate_descent.py:683: ConvergenceWarning: Objective did not converge. You might want to increase the number of iterations. Duality gap: 1807.9548291375907, tolerance: 0.48252767947947917\n",
      "  model = cd_fast.enet_coordinate_descent_gram(\n",
      "C:\\Users\\lukas\\anaconda3\\Lib\\site-packages\\sklearn\\linear_model\\_coordinate_descent.py:683: UserWarning: Coordinate descent without L1 regularization may lead to unexpected results and is discouraged. Set l1_ratio > 0 to add L1 regularization.\n",
      "  model = cd_fast.enet_coordinate_descent_gram(\n",
      "C:\\Users\\lukas\\anaconda3\\Lib\\site-packages\\sklearn\\linear_model\\_coordinate_descent.py:683: ConvergenceWarning: Objective did not converge. You might want to increase the number of iterations. Duality gap: 1819.6502538100162, tolerance: 0.48115637948835177\n",
      "  model = cd_fast.enet_coordinate_descent_gram(\n",
      "C:\\Users\\lukas\\anaconda3\\Lib\\site-packages\\sklearn\\linear_model\\_coordinate_descent.py:683: UserWarning: Coordinate descent without L1 regularization may lead to unexpected results and is discouraged. Set l1_ratio > 0 to add L1 regularization.\n",
      "  model = cd_fast.enet_coordinate_descent_gram(\n",
      "C:\\Users\\lukas\\anaconda3\\Lib\\site-packages\\sklearn\\linear_model\\_coordinate_descent.py:683: ConvergenceWarning: Objective did not converge. You might want to increase the number of iterations. Duality gap: 1825.8040770440512, tolerance: 0.48132037389854954\n",
      "  model = cd_fast.enet_coordinate_descent_gram(\n"
     ]
    },
    {
     "name": "stdout",
     "output_type": "stream",
     "text": [
      "Stepwise - R² teste: 0.1971\n",
      "Variáveis removidas: ['Intercept', 'posse_de_veiculo[T.True]', 'tipo_renda[T.Bolsista]', 'estado_civil[T.União]']\n",
      "Ridge com transformação - R² teste: 0.2322\n",
      "Árvore de Regressão - R² teste: 0.2238\n"
     ]
    }
   ],
   "source": [
    "for col in ['data_ref', 'index']:\n",
    "    if col in df.columns:\n",
    "        df.drop(col, axis=1, inplace=True)\n",
    "\n",
    "df.dropna(inplace=True)\n",
    "df['log_renda'] = np.log(df['renda'])\n",
    "\n",
    "formula = 'log_renda ~ sexo + posse_de_veiculo + posse_de_imovel + qtd_filhos + tipo_renda + educacao + estado_civil + tipo_residencia + idade + tempo_emprego + qt_pessoas_residencia'\n",
    "y, X = patsy.dmatrices(formula, df, return_type='dataframe')\n",
    "\n",
    "X_train, X_test, y_train, y_test = train_test_split(X, y.values.ravel(), test_size=0.25, random_state=42)\n",
    "\n",
    "scaler = StandardScaler()\n",
    "X_train_scaled = scaler.fit_transform(X_train)\n",
    "X_test_scaled = scaler.transform(X_test)\n",
    "\n",
    "alphas = [0, 0.001, 0.005, 0.01, 0.05, 0.1]\n",
    "ridge = RidgeCV(alphas=alphas, cv=5)\n",
    "ridge.fit(X_train_scaled, y_train)\n",
    "ridge_r2 = r2_score(y_test, ridge.predict(X_test_scaled))\n",
    "\n",
    "print(f'Ridge - Melhor alpha: {ridge.alpha_:.4f} | R² teste: {ridge_r2:.4f}')\n",
    "\n",
    "lasso = LassoCV(alphas=alphas, cv=5, max_iter=10000)\n",
    "lasso.fit(X_train_scaled, y_train)\n",
    "lasso_r2 = r2_score(y_test, lasso.predict(X_test_scaled))\n",
    "\n",
    "print(f'Lasso - Melhor alpha: {lasso.alpha_:.4f} | R² teste: {lasso_r2:.4f}')\n",
    "\n",
    "stepwise_X = X.copy()\n",
    "stepwise_X['Intercept'] = 1\n",
    "cols = list(stepwise_X.columns)\n",
    "removed = []\n",
    "current_score = sm.OLS(y, stepwise_X).fit().rsquared_adj\n",
    "\n",
    "for col in cols:\n",
    "    temp_cols = cols.copy()\n",
    "    temp_cols.remove(col)\n",
    "    temp_model = sm.OLS(y, stepwise_X[temp_cols]).fit()\n",
    "    if temp_model.rsquared_adj > current_score:\n",
    "        cols = temp_cols\n",
    "        current_score = temp_model.rsquared_adj\n",
    "        removed.append(col)\n",
    "\n",
    "final_model = sm.OLS(y, stepwise_X[cols]).fit()\n",
    "stepwise_r2 = r2_score(y_test, final_model.predict(X_test[cols]))\n",
    "\n",
    "print(f'Stepwise - R² teste: {stepwise_r2:.4f}')\n",
    "print(\"Variáveis removidas:\", removed)\n",
    "\n",
    "df['idade_emprego'] = df['idade'] * df['tempo_emprego']\n",
    "formula2 = formula + ' + idade_emprego'\n",
    "y2, X2 = patsy.dmatrices(formula2, df, return_type='dataframe')\n",
    "X2_train, X2_test, y2_train, y2_test = train_test_split(X2, y2.values.ravel(), test_size=0.25, random_state=42)\n",
    "scaler2 = StandardScaler()\n",
    "X2_train_scaled = scaler2.fit_transform(X2_train)\n",
    "X2_test_scaled = scaler2.transform(X2_test)\n",
    "ridge2 = RidgeCV(alphas=alphas, cv=5)\n",
    "ridge2.fit(X2_train_scaled, y2_train)\n",
    "ridge2_r2 = r2_score(y2_test, ridge2.predict(X2_test_scaled))\n",
    "\n",
    "print(f'Ridge com transformação - R² teste: {ridge2_r2:.4f}')\n",
    "\n",
    "tree = DecisionTreeRegressor(max_depth=5, random_state=42)\n",
    "tree.fit(X_train, y_train)\n",
    "tree_r2 = r2_score(y_test, tree.predict(X_test))\n",
    "\n",
    "print(f'Árvore de Regressão - R² teste: {tree_r2:.4f}')"
   ]
  },
  {
   "cell_type": "code",
   "execution_count": null,
   "metadata": {},
   "outputs": [],
   "source": []
  }
 ],
 "metadata": {
  "kernelspec": {
   "display_name": "Python 3 (ipykernel)",
   "language": "python",
   "name": "python3"
  },
  "language_info": {
   "codemirror_mode": {
    "name": "ipython",
    "version": 3
   },
   "file_extension": ".py",
   "mimetype": "text/x-python",
   "name": "python",
   "nbconvert_exporter": "python",
   "pygments_lexer": "ipython3",
   "version": "3.12.7"
  }
 },
 "nbformat": 4,
 "nbformat_minor": 4
}
