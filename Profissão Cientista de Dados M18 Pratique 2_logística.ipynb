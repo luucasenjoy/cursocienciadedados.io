{
 "cells": [
  {
   "cell_type": "markdown",
   "metadata": {},
   "source": [
    "# Regressão Logística I\n",
    "## Tarefa II\n",
    "\n",
    "Vamos trabalhar com a mesma base do exercício anterior, mas vamos aprofundar um pouco mais a nossa regressão."
   ]
  },
  {
   "cell_type": "code",
   "execution_count": 1,
   "metadata": {},
   "outputs": [],
   "source": [
    "import pandas as pd\n",
    "import seaborn as sns\n",
    "import matplotlib.pyplot as plt\n",
    "import numpy as np\n",
    "\n",
    "import statsmodels.formula.api as smf"
   ]
  },
  {
   "cell_type": "code",
   "execution_count": 5,
   "metadata": {
    "tags": []
   },
   "outputs": [
    {
     "data": {
      "text/html": [
       "<div>\n",
       "<style scoped>\n",
       "    .dataframe tbody tr th:only-of-type {\n",
       "        vertical-align: middle;\n",
       "    }\n",
       "\n",
       "    .dataframe tbody tr th {\n",
       "        vertical-align: top;\n",
       "    }\n",
       "\n",
       "    .dataframe thead th {\n",
       "        text-align: right;\n",
       "    }\n",
       "</style>\n",
       "<table border=\"1\" class=\"dataframe\">\n",
       "  <thead>\n",
       "    <tr style=\"text-align: right;\">\n",
       "      <th></th>\n",
       "      <th>age</th>\n",
       "      <th>sex</th>\n",
       "      <th>cp</th>\n",
       "      <th>trestbps</th>\n",
       "      <th>chol</th>\n",
       "      <th>fbs</th>\n",
       "      <th>restecg</th>\n",
       "      <th>thalach</th>\n",
       "      <th>exang</th>\n",
       "      <th>oldpeak</th>\n",
       "      <th>slope</th>\n",
       "      <th>ca</th>\n",
       "      <th>thal</th>\n",
       "      <th>num</th>\n",
       "      <th>flag_doente</th>\n",
       "    </tr>\n",
       "  </thead>\n",
       "  <tbody>\n",
       "    <tr>\n",
       "      <th>0</th>\n",
       "      <td>63.0</td>\n",
       "      <td>1.0</td>\n",
       "      <td>1.0</td>\n",
       "      <td>145.0</td>\n",
       "      <td>233.0</td>\n",
       "      <td>1.0</td>\n",
       "      <td>2.0</td>\n",
       "      <td>150.0</td>\n",
       "      <td>0.0</td>\n",
       "      <td>2.3</td>\n",
       "      <td>3.0</td>\n",
       "      <td>0.0</td>\n",
       "      <td>6.0</td>\n",
       "      <td>0</td>\n",
       "      <td>0</td>\n",
       "    </tr>\n",
       "    <tr>\n",
       "      <th>1</th>\n",
       "      <td>67.0</td>\n",
       "      <td>1.0</td>\n",
       "      <td>4.0</td>\n",
       "      <td>160.0</td>\n",
       "      <td>286.0</td>\n",
       "      <td>0.0</td>\n",
       "      <td>2.0</td>\n",
       "      <td>108.0</td>\n",
       "      <td>1.0</td>\n",
       "      <td>1.5</td>\n",
       "      <td>2.0</td>\n",
       "      <td>3.0</td>\n",
       "      <td>3.0</td>\n",
       "      <td>2</td>\n",
       "      <td>1</td>\n",
       "    </tr>\n",
       "    <tr>\n",
       "      <th>2</th>\n",
       "      <td>67.0</td>\n",
       "      <td>1.0</td>\n",
       "      <td>4.0</td>\n",
       "      <td>120.0</td>\n",
       "      <td>229.0</td>\n",
       "      <td>0.0</td>\n",
       "      <td>2.0</td>\n",
       "      <td>129.0</td>\n",
       "      <td>1.0</td>\n",
       "      <td>2.6</td>\n",
       "      <td>2.0</td>\n",
       "      <td>2.0</td>\n",
       "      <td>7.0</td>\n",
       "      <td>1</td>\n",
       "      <td>1</td>\n",
       "    </tr>\n",
       "    <tr>\n",
       "      <th>3</th>\n",
       "      <td>37.0</td>\n",
       "      <td>1.0</td>\n",
       "      <td>3.0</td>\n",
       "      <td>130.0</td>\n",
       "      <td>250.0</td>\n",
       "      <td>0.0</td>\n",
       "      <td>0.0</td>\n",
       "      <td>187.0</td>\n",
       "      <td>0.0</td>\n",
       "      <td>3.5</td>\n",
       "      <td>3.0</td>\n",
       "      <td>0.0</td>\n",
       "      <td>3.0</td>\n",
       "      <td>0</td>\n",
       "      <td>0</td>\n",
       "    </tr>\n",
       "    <tr>\n",
       "      <th>4</th>\n",
       "      <td>41.0</td>\n",
       "      <td>0.0</td>\n",
       "      <td>2.0</td>\n",
       "      <td>130.0</td>\n",
       "      <td>204.0</td>\n",
       "      <td>0.0</td>\n",
       "      <td>2.0</td>\n",
       "      <td>172.0</td>\n",
       "      <td>0.0</td>\n",
       "      <td>1.4</td>\n",
       "      <td>1.0</td>\n",
       "      <td>0.0</td>\n",
       "      <td>3.0</td>\n",
       "      <td>0</td>\n",
       "      <td>0</td>\n",
       "    </tr>\n",
       "  </tbody>\n",
       "</table>\n",
       "</div>"
      ],
      "text/plain": [
       "    age  sex   cp  trestbps   chol  fbs  restecg  thalach  exang  oldpeak  \\\n",
       "0  63.0  1.0  1.0     145.0  233.0  1.0      2.0    150.0    0.0      2.3   \n",
       "1  67.0  1.0  4.0     160.0  286.0  0.0      2.0    108.0    1.0      1.5   \n",
       "2  67.0  1.0  4.0     120.0  229.0  0.0      2.0    129.0    1.0      2.6   \n",
       "3  37.0  1.0  3.0     130.0  250.0  0.0      0.0    187.0    0.0      3.5   \n",
       "4  41.0  0.0  2.0     130.0  204.0  0.0      2.0    172.0    0.0      1.4   \n",
       "\n",
       "   slope   ca thal  num  flag_doente  \n",
       "0    3.0  0.0  6.0    0            0  \n",
       "1    2.0  3.0  3.0    2            1  \n",
       "2    2.0  2.0  7.0    1            1  \n",
       "3    3.0  0.0  3.0    0            0  \n",
       "4    1.0  0.0  3.0    0            0  "
      ]
     },
     "execution_count": 5,
     "metadata": {},
     "output_type": "execute_result"
    }
   ],
   "source": [
    "df = pd.read_csv(\"processed.cleveland.data.csv\", \n",
    "                 names=['age', 'sex', 'cp', 'trestbps', 'chol', 'fbs', 'restecg',\n",
    "                        'thalach', 'exang', 'oldpeak', 'slope', 'ca', 'thal', 'num'])\n",
    "\n",
    "df['flag_doente'] = (df['num']!=0).astype('int64')\n",
    "df.head()"
   ]
  },
  {
   "cell_type": "markdown",
   "metadata": {},
   "source": [
    "A descrição das variáveis está recortada abaixo:\n",
    "- age: idade do paciente em anos\n",
    "- sex: sexo (1 = male; 0 = female)  \n",
    "- cp: tipo de dor no peito\n",
    "  - 1: angina típica\n",
    "  - 2: angina atípica\n",
    "  - 3: dor não-angina\n",
    "  - 4: assintomático\n",
    "- trestbps: pressão sanguínea em repouso (em mm Hg na admissão ao hospital\n",
    "- chol: colesterol sérico em mg/dl\n",
    "- fbs: (açúcar no sangue em jejum > 120 mg/dl) (1 = True; 0 = False)\n",
    "- restecg: resultados eletrocardiográficos em repouso\n",
    "  - 0: normal\n",
    "  - 1: tendo anormalidade da onda ST-T (Inversões de onda T e / ou ST com elevação ou depressão de > 0.05 mV)\n",
    "  - 2: mostrando hipertrofia ventricular esquerda provável ou definitiva pelos critérios de Estes\n",
    "- thalach: frequência cardíaca máxima alcançada\n",
    "- exang: angina induzida por exercício(1 = sim; 0 = não)\n",
    "- oldpeak = Depressão de ST induzida por exercício em relação ao repouso\n",
    "- slope: Depressão de ST induzida por exercício em relação ao repouso\n",
    "  - 1: inclinação ascendente\n",
    "  - 2: estável\n",
    "  - 3: inclinação descendente\n",
    "- ca: número de vasos principais (0-3) coloridos por fluorosopia\n",
    "- thal: 3 = normal; 6 = defeito corrigido; 7 = defeito reversível\n",
    "- num: diagnóstico de doença cardíaga (status de doença angiográfica)"
   ]
  },
  {
   "cell_type": "code",
   "execution_count": 6,
   "metadata": {},
   "outputs": [
    {
     "name": "stdout",
     "output_type": "stream",
     "text": [
      "<class 'pandas.core.frame.DataFrame'>\n",
      "RangeIndex: 303 entries, 0 to 302\n",
      "Data columns (total 15 columns):\n",
      " #   Column       Non-Null Count  Dtype  \n",
      "---  ------       --------------  -----  \n",
      " 0   age          303 non-null    float64\n",
      " 1   sex          303 non-null    float64\n",
      " 2   cp           303 non-null    float64\n",
      " 3   trestbps     303 non-null    float64\n",
      " 4   chol         303 non-null    float64\n",
      " 5   fbs          303 non-null    float64\n",
      " 6   restecg      303 non-null    float64\n",
      " 7   thalach      303 non-null    float64\n",
      " 8   exang        303 non-null    float64\n",
      " 9   oldpeak      303 non-null    float64\n",
      " 10  slope        303 non-null    float64\n",
      " 11  ca           303 non-null    object \n",
      " 12  thal         303 non-null    object \n",
      " 13  num          303 non-null    int64  \n",
      " 14  flag_doente  303 non-null    int64  \n",
      "dtypes: float64(11), int64(2), object(2)\n",
      "memory usage: 35.6+ KB\n"
     ]
    }
   ],
   "source": [
    "df.info()"
   ]
  },
  {
   "cell_type": "markdown",
   "metadata": {},
   "source": [
    "1. Considere o script que monta a análise bivariada que você fez na tarefa anterior. Transforme esse script em uma função, que deve:\n",
    "- Ter como parâmetros de entrada:\n",
    "    - Um *dataframe* contendo os dados a serem avaliados\n",
    "    - Um *string* contendo o nome da variável resposta\n",
    "    - Um *string* contendo o nome da variável explicativa\n",
    "- E deve retornar um *dataframe* com os dados da bivariada. \n",
    "**Monte** a mesma bivariada pelo menos três variáveis qualitativas do *data-frame*. Qual delas parece discriminar mais o risco?"
   ]
  },
  {
   "cell_type": "code",
   "execution_count": 8,
   "metadata": {},
   "outputs": [],
   "source": [
    "df['target_bin'] = df['num'].apply(lambda x: 1 if x > 0 else 0)"
   ]
  },
  {
   "cell_type": "code",
   "execution_count": 9,
   "metadata": {},
   "outputs": [
    {
     "name": "stdout",
     "output_type": "stream",
     "text": [
      "=== Análise: Tipo de dor no peito (cp) ===\n",
      "target_bin   cp   0    1     0_perc     1_perc\n",
      "0           1.0  16    7  69.565217  30.434783\n",
      "1           2.0  41    9  82.000000  18.000000\n",
      "2           3.0  68   18  79.069767  20.930233\n",
      "3           4.0  39  105  27.083333  72.916667\n",
      "\n",
      "=== Análise: Talassemia (thal) ===\n",
      "target_bin thal    0   1     0_perc     1_perc\n",
      "0           3.0  129  37  77.710843  22.289157\n",
      "1           6.0    6  12  33.333333  66.666667\n",
      "2           7.0   28  89  23.931624  76.068376\n",
      "3             ?    1   1  50.000000  50.000000\n",
      "\n",
      "=== Análise: Inclinação do ST (slope) ===\n",
      "target_bin  slope    0   1     0_perc     1_perc\n",
      "0             1.0  106  36  74.647887  25.352113\n",
      "1             2.0   49  91  35.000000  65.000000\n",
      "2             3.0    9  12  42.857143  57.142857\n"
     ]
    }
   ],
   "source": [
    "def analise_bivariada(df, var_explicativa, var_resposta):\n",
    "    \n",
    "    tab_absoluta = pd.crosstab(df[var_explicativa], df[var_resposta])\n",
    "    tab_percentual = pd.crosstab(df[var_explicativa], df[var_resposta], normalize='index') * 100\n",
    "\n",
    "    resultado = tab_absoluta.copy()\n",
    "    for col in tab_percentual.columns:\n",
    "        resultado[f\"{col}_perc\"] = tab_percentual[col]\n",
    "\n",
    "    return resultado.reset_index()\n",
    "\n",
    "print(\"=== Análise: Tipo de dor no peito (cp) ===\")\n",
    "print(analise_bivariada(df, 'cp', 'target_bin'))\n",
    "\n",
    "print(\"\\n=== Análise: Talassemia (thal) ===\")\n",
    "print(analise_bivariada(df, 'thal', 'target_bin'))\n",
    "\n",
    "print(\"\\n=== Análise: Inclinação do ST (slope) ===\")\n",
    "print(analise_bivariada(df, 'slope', 'target_bin'))\n"
   ]
  },
  {
   "cell_type": "markdown",
   "metadata": {},
   "source": [
    "2. Monte uma função semelhante para categorizar variáveis quantitativas contínuas (com muitas categorias) como ```age```.  \n",
    "    Além dos mesmos parâmetros da função anterior, defina mais um parâmetro como número de categorias que você deseja quebrar. Defina um valor '*default*' de 5 grupos para este parâmetro.  "
   ]
  },
  {
   "cell_type": "code",
   "execution_count": 10,
   "metadata": {},
   "outputs": [],
   "source": [
    "def analise_bivariada_continua(df, var_continua, var_resposta, n_grupos=5):\n",
    "\n",
    "    categorias = pd.qcut(df[var_continua], q=n_grupos, duplicates='drop')\n",
    "\n",
    "    df_temp = df.copy()\n",
    "    df_temp['grupo'] = categorias\n",
    "\n",
    "    tab_absoluta = pd.crosstab(df_temp['grupo'], df_temp[var_resposta])\n",
    "    tab_percentual = pd.crosstab(df_temp['grupo'], df_temp[var_resposta], normalize='index') * 100\n",
    "\n",
    "    resultado = tab_absoluta.copy()\n",
    "    for col in tab_percentual.columns:\n",
    "        resultado[f\"{col}_perc\"] = tab_percentual[col]\n",
    "\n",
    "    return resultado.reset_index()"
   ]
  },
  {
   "cell_type": "code",
   "execution_count": 11,
   "metadata": {},
   "outputs": [
    {
     "name": "stdout",
     "output_type": "stream",
     "text": [
      "=== Análise bivariada: idade (age) em 5 grupos ===\n",
      "target_bin           grupo   0   1     0_perc     1_perc\n",
      "0           (28.999, 45.0]  47  16  74.603175  25.396825\n",
      "1             (45.0, 53.0]  42  22  65.625000  34.375000\n",
      "2             (53.0, 58.0]  32  39  45.070423  54.929577\n",
      "3             (58.0, 62.0]  13  32  28.888889  71.111111\n",
      "4             (62.0, 77.0]  30  30  50.000000  50.000000\n"
     ]
    }
   ],
   "source": [
    "print(\"=== Análise bivariada: idade (age) em 5 grupos ===\")\n",
    "print(analise_bivariada_continua(df, 'age', 'target_bin'))"
   ]
  },
  {
   "cell_type": "markdown",
   "metadata": {},
   "source": [
    "3. Construa um modelo de regressão logística com as variáveis qualitativas: ```sex + cp +  trestbps``` e com a variável quantitativa ```age```.\n",
    "\n",
    "**Interprete os parâmetros.**"
   ]
  },
  {
   "cell_type": "code",
   "execution_count": 13,
   "metadata": {},
   "outputs": [
    {
     "name": "stdout",
     "output_type": "stream",
     "text": [
      "Optimization terminated successfully.\n",
      "         Current function value: 0.476154\n",
      "         Iterations 6\n",
      "                           Logit Regression Results                           \n",
      "==============================================================================\n",
      "Dep. Variable:             target_bin   No. Observations:                  303\n",
      "Model:                          Logit   Df Residuals:                      296\n",
      "Method:                           MLE   Df Model:                            6\n",
      "Date:                Tue, 20 May 2025   Pseudo R-squ.:                  0.3097\n",
      "Time:                        16:24:41   Log-Likelihood:                -144.27\n",
      "converged:                       True   LL-Null:                       -208.99\n",
      "Covariance Type:            nonrobust   LLR p-value:                 1.692e-25\n",
      "=================================================================================\n",
      "                    coef    std err          z      P>|z|      [0.025      0.975]\n",
      "---------------------------------------------------------------------------------\n",
      "Intercept        -8.3407      1.621     -5.145      0.000     -11.518      -5.163\n",
      "C(sex)[T.1.0]     1.8094      0.353      5.130      0.000       1.118       2.501\n",
      "C(cp)[T.2.0]     -0.0617      0.636     -0.097      0.923      -1.309       1.186\n",
      "C(cp)[T.3.0]      0.0715      0.573      0.125      0.901      -1.051       1.194\n",
      "C(cp)[T.4.0]      2.4789      0.553      4.485      0.000       1.396       3.562\n",
      "age               0.0567      0.018      3.120      0.002       0.021       0.092\n",
      "trestbps          0.0193      0.009      2.261      0.024       0.003       0.036\n",
      "=================================================================================\n"
     ]
    }
   ],
   "source": [
    "import statsmodels.api as sm\n",
    "import statsmodels.formula.api as smf\n",
    "\n",
    "if 'target_bin' not in df.columns:\n",
    "    df['target_bin'] = df['num'].apply(lambda x: 1 if x > 0 else 0)\n",
    "\n",
    "modelo = smf.logit(formula='target_bin ~ C(sex) + C(cp) + age + trestbps', data=df).fit()\n",
    "\n",
    "print(modelo.summary())\n"
   ]
  },
  {
   "cell_type": "code",
   "execution_count": 15,
   "metadata": {},
   "outputs": [
    {
     "data": {
      "text/plain": [
       "'- Homens (sex = 1) têm 6 vezes mais chance de ter doença cardíaca do que mulheres.\\n- Tipo 4 de dor no peito (cp = 4) aumenta o risco em 12 vezes (comparado ao tipo 1).\\n- Idade: cada ano a mais aumenta o risco em 5.9%.\\n- Pressão arterial (trestbps): cada ponto a mais aumenta o risco em 1.9%.\\n- Tipos de dor no peito 2 e 3 não foram significativos.'"
      ]
     },
     "execution_count": 15,
     "metadata": {},
     "output_type": "execute_result"
    }
   ],
   "source": [
    "\"\"\"- Homens (sex = 1) têm 6 vezes mais chance de ter doença cardíaca do que mulheres.\n",
    "- Tipo 4 de dor no peito (cp = 4) aumenta o risco em 12 vezes (comparado ao tipo 1).\n",
    "- Idade: cada ano a mais aumenta o risco em 5.9%.\n",
    "- Pressão arterial (trestbps): cada ponto a mais aumenta o risco em 1.9%.\n",
    "- Tipos de dor no peito 2 e 3 não foram significativos.\"\"\""
   ]
  },
  {
   "cell_type": "markdown",
   "metadata": {},
   "source": [
    "4. Avalie o seu modelo quanto a **calibragem**:\n",
    "- Calcule a probabilidade de evento predita segundo o seu modelo\n",
    "- Categorize essa probabilidade em G=5 grupos\n",
    "- Calcule a probabilidade de evento predita média por grupo\n",
    "- Calcule a taxa de eventos (média da variável indicadora de eventos) por grupo\n",
    "- Compare graficamente o valor eperado versus observado para a taxa de maus por grupo"
   ]
  },
  {
   "cell_type": "code",
   "execution_count": 16,
   "metadata": {},
   "outputs": [
    {
     "name": "stdout",
     "output_type": "stream",
     "text": [
      "   grupo_prob  prob_pred_mean  event_rate\n",
      "0           0        0.072008    0.080645\n",
      "1           1        0.209626    0.152542\n",
      "2           2        0.435175    0.483871\n",
      "3           3        0.708861    0.762712\n",
      "4           4        0.874819    0.819672\n"
     ]
    },
    {
     "data": {
      "image/png": "[encoded data removed]",
      "text/plain": [
       "<Figure size 800x600 with 1 Axes>"
      ]
     },
     "metadata": {},
     "output_type": "display_data"
    }
   ],
   "source": [
    "df['prob_pred'] = modelo.predict(df)\n",
    "\n",
    "df['grupo_prob'] = pd.qcut(df['prob_pred'], q=5, labels=False)\n",
    "\n",
    "calibragem = df.groupby('grupo_prob').agg(\n",
    "    prob_pred_mean=('prob_pred', 'mean'),\n",
    "    event_rate=('target_bin', 'mean')\n",
    ").reset_index()\n",
    "\n",
    "print(calibragem)\n",
    "\n",
    "import matplotlib.pyplot as plt\n",
    "\n",
    "plt.figure(figsize=(8,6))\n",
    "plt.plot(calibragem['prob_pred_mean'], calibragem['event_rate'], marker='o', linestyle='-')\n",
    "plt.plot([0,1], [0,1], linestyle='--', color='gray')  # Linha de calibragem perfeita\n",
    "plt.xlabel('Probabilidade média prevista')\n",
    "plt.ylabel('Taxa observada de evento')\n",
    "plt.title('Calibragem do Modelo')\n",
    "plt.grid(True)\n",
    "plt.show()"
   ]
  },
  {
   "cell_type": "markdown",
   "metadata": {},
   "source": [
    "5. Avalie o seu modelo quanto a discriminação calculando acurácia, GINI e KS."
   ]
  },
  {
   "cell_type": "code",
   "execution_count": 17,
   "metadata": {},
   "outputs": [
    {
     "name": "stdout",
     "output_type": "stream",
     "text": [
      "Acurácia: 0.7954\n",
      "AUC: 0.8519\n",
      "Índice Gini: 0.7039\n",
      "Estatística KS: 0.5930\n"
     ]
    }
   ],
   "source": [
    "from sklearn.metrics import accuracy_score, roc_auc_score\n",
    "\n",
    "df['pred_bin'] = (df['prob_pred'] >= 0.5).astype(int)\n",
    "\n",
    "acc = accuracy_score(df['target_bin'], df['pred_bin'])\n",
    "\n",
    "auc = roc_auc_score(df['target_bin'], df['prob_pred'])\n",
    "gini = 2 * auc - 1\n",
    "\n",
    "def ks_statistic(y_true, y_scores):\n",
    "    data = pd.DataFrame({'y_true': y_true, 'y_scores': y_scores})\n",
    "    data = data.sort_values(by='y_scores', ascending=False)\n",
    "\n",
    "    data['cum_event'] = np.cumsum(data['y_true']) / data['y_true'].sum()\n",
    "    data['cum_nonevent'] = np.cumsum(1 - data['y_true']) / (1 - data['y_true']).sum()\n",
    "\n",
    "    ks = np.max(np.abs(data['cum_event'] - data['cum_nonevent']))\n",
    "    return ks\n",
    "\n",
    "ks = ks_statistic(df['target_bin'], df['prob_pred'])\n",
    "\n",
    "print(f\"Acurácia: {acc:.4f}\")\n",
    "print(f\"AUC: {auc:.4f}\")\n",
    "print(f\"Índice Gini: {gini:.4f}\")\n",
    "print(f\"Estatística KS: {ks:.4f}\")"
   ]
  },
  {
   "cell_type": "markdown",
   "metadata": {},
   "source": [
    "6. tente melhorar o modelo obtido, por exemplo inserindo ou removendo variáveis.  \n",
    "    Avalie as características do seu modelo (calibragem e acurácia)."
   ]
  },
  {
   "cell_type": "code",
   "execution_count": 18,
   "metadata": {},
   "outputs": [
    {
     "name": "stdout",
     "output_type": "stream",
     "text": [
      "Optimization terminated successfully.\n",
      "         Current function value: 0.430675\n",
      "         Iterations 7\n",
      "                           Logit Regression Results                           \n",
      "==============================================================================\n",
      "Dep. Variable:             target_bin   No. Observations:                  303\n",
      "Model:                          Logit   Df Residuals:                      293\n",
      "Method:                           MLE   Df Model:                            9\n",
      "Date:                Tue, 20 May 2025   Pseudo R-squ.:                  0.3756\n",
      "Time:                        16:32:42   Log-Likelihood:                -130.49\n",
      "converged:                       True   LL-Null:                       -208.99\n",
      "Covariance Type:            nonrobust   LLR p-value:                 3.128e-29\n",
      "===================================================================================\n",
      "                      coef    std err          z      P>|z|      [0.025      0.975]\n",
      "-----------------------------------------------------------------------------------\n",
      "Intercept          -3.8919      2.269     -1.715      0.086      -8.340       0.556\n",
      "C(sex)[T.1.0]       1.9522      0.389      5.024      0.000       1.191       2.714\n",
      "C(cp)[T.2.0]        0.0536      0.669      0.080      0.936      -1.257       1.364\n",
      "C(cp)[T.3.0]        0.0812      0.600      0.135      0.892      -1.094       1.256\n",
      "C(cp)[T.4.0]        1.9548      0.585      3.343      0.001       0.809       3.101\n",
      "C(exang)[T.1.0]     0.8366      0.366      2.283      0.022       0.118       1.555\n",
      "age                 0.0254      0.021      1.239      0.215      -0.015       0.066\n",
      "trestbps            0.0222      0.009      2.380      0.017       0.004       0.040\n",
      "chol                0.0062      0.003      1.966      0.049    1.81e-05       0.012\n",
      "thalach            -0.0318      0.009     -3.513      0.000      -0.050      -0.014\n",
      "===================================================================================\n",
      "   grupo_prob_novo  prob_pred_mean  event_rate\n",
      "0                0        0.056468    0.049180\n",
      "1                1        0.193081    0.183333\n",
      "2                2        0.389552    0.442623\n",
      "3                3        0.722382    0.683333\n",
      "4                4        0.932214    0.934426\n"
     ]
    }
   ],
   "source": [
    "modelo_novo = smf.logit(formula='target_bin ~ C(sex) + C(cp) + age + trestbps + chol + thalach + C(exang)', data=df).fit()\n",
    "print(modelo_novo.summary())\n",
    "\n",
    "df['prob_pred_novo'] = modelo_novo.predict(df)\n",
    "\n",
    "df['grupo_prob_novo'] = pd.qcut(df['prob_pred_novo'], q=5, labels=False)\n",
    "calibragem_novo = df.groupby('grupo_prob_novo').agg(\n",
    "    prob_pred_mean=('prob_pred_novo', 'mean'),\n",
    "    event_rate=('target_bin', 'mean')\n",
    ").reset_index()\n",
    "\n",
    "print(calibragem_novo)"
   ]
  },
  {
   "cell_type": "code",
   "execution_count": null,
   "metadata": {},
   "outputs": [],
   "source": []
  }
 ],
 "metadata": {
  "kernelspec": {
   "display_name": "Python [conda env:base] *",
   "language": "python",
   "name": "conda-base-py"
  },
  "language_info": {
   "codemirror_mode": {
    "name": "ipython",
    "version": 3
   },
   "file_extension": ".py",
   "mimetype": "text/x-python",
   "name": "python",
   "nbconvert_exporter": "python",
   "pygments_lexer": "ipython3",
   "version": "3.12.7"
  }
 },
 "nbformat": 4,
 "nbformat_minor": 4
}
