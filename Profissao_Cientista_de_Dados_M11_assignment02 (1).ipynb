{
 "cells": [
  {
   "cell_type": "markdown",
   "metadata": {
    "id": "pSfPJsnipXkq"
   },
   "source": [
    "## Árvores de regressão - exercícios 02\n",
    "\n",
    "Este exercício será uma continuação do anterior, mesma base, mesmas variáveis - vamos tentar buscar a 'melhor árvore'.\n"
   ]
  },
  {
   "cell_type": "markdown",
   "metadata": {
    "id": "CL07SfYxpbvw"
   },
   "source": [
    "*Atenção - Utilizar a base de dados em anexo que é a mesma base que utilizamos na atividade anterior! A base Boston, assim como para a primeira atividade foi descontinuada e não deve ser utilizada*"
   ]
  },
  {
   "cell_type": "code",
   "execution_count": null,
   "metadata": {
    "id": "i91q0awTpXlm"
   },
   "outputs": [],
   "source": [
    "import pandas as pd\n",
    "\n",
    "import seaborn as sns\n",
    "\n",
    "from sklearn import datasets\n",
    "from sklearn.tree import DecisionTreeRegressor\n",
    "from sklearn import tree\n",
    "from sklearn.model_selection import train_test_split"
   ]
  },
  {
   "cell_type": "markdown",
   "metadata": {
    "id": "0rw9pJC-pXlx"
   },
   "source": [
    "### 1. Execute os passos do exercício anterior, até que você tenha uma árvore de regressão predizendo o valor do imóvel na base de treinamento."
   ]
  },
  {
   "cell_type": "code",
   "execution_count": null,
   "metadata": {
    "id": "fqWgajp2pXly"
   },
   "outputs": [],
   "source": [
    "from sklearn.metrics import mean_squared_error\n",
    "\n",
    "df = pd.read_csv('housing.csv')\n",
    "\n",
    "df = df.dropna()\n",
    "\n",
    "df = pd.get_dummies(df, columns=['ocean_proximity'], drop_first=True)\n",
    "\n",
    "X = df.drop('median_house_value', axis=1)\n",
    "y = df['median_house_value']\n",
    "\n",
    "X_train, X_test, y_train, y_test = train_test_split(X, y, test_size=0.3, random_state=42)\n",
    "\n",
    "tree_8 = DecisionTreeRegressor(max_depth=8, random_state=42)\n",
    "tree_8.fit(X_train, y_train)\n",
    "\n",
    "tree_2 = DecisionTreeRegressor(max_depth=2, random_state=42)\n",
    "tree_2.fit(X_train, y_train)\n",
    "\n",
    "y_pred_train_8 = tree_8.predict(X_train)\n",
    "y_pred_test_8 = tree_8.predict(X_test)\n",
    "\n",
    "y_pred_train_2 = tree_2.predict(X_train)\n",
    "y_pred_test_2 = tree_2.predict(X_test)\n",
    "\n",
    "mse_train_8 = mean_squared_error(y_train, y_pred_train_8)\n",
    "mse_test_8 = mean_squared_error(y_test, y_pred_test_8)\n",
    "\n",
    "mse_train_2 = mean_squared_error(y_train, y_pred_train_2)\n",
    "mse_test_2 = mean_squared_error(y_test, y_pred_test_2)\n",
    "\n",
    "print(f\"MSE Árvore Profundidade 8 - Treinamento: {mse_train_8:.2f}\")\n",
    "print(f\"MSE Árvore Profundidade 8 - Teste: {mse_test_8:.2f}\")\n",
    "print(f\"MSE Árvore Profundidade 2 - Treinamento: {mse_train_2:.2f}\")\n",
    "print(f\"MSE Árvore Profundidade 2 - Teste: {mse_test_2:.2f}\")"
   ]
  },
  {
   "cell_type": "markdown",
   "metadata": {
    "id": "s-dQl0cUpXl0"
   },
   "source": [
    "### 2.  Calcule o caminho indicado pelos CCP-alfas dessa árvore."
   ]
  },
  {
   "cell_type": "code",
   "execution_count": null,
   "metadata": {
    "id": "9p5-aB1ypXl3"
   },
   "outputs": [],
   "source": [
    "import matplotlib.pyplot as plt\n",
    "\n",
    "tree = DecisionTreeRegressor(random_state=42)\n",
    "tree.fit(X_train, y_train)\n",
    "\n",
    "path = tree.cost_complexity_pruning_path(X_train, y_train)\n",
    "ccp_alphas = path.ccp_alphas\n",
    "impurities = path.impurities\n",
    "\n",
    "plt.figure(figsize=(10, 5))\n",
    "plt.plot(ccp_alphas, impurities, marker='o', drawstyle=\"steps-post\")\n",
    "plt.title(\"Caminho de poda de complexidade (CCP Alpha)\")\n",
    "plt.xlabel(\"ccp_alpha\")\n",
    "plt.ylabel(\"Impureza Total da Árvore\")\n",
    "plt.grid(True)\n",
    "plt.show()"
   ]
  },
  {
   "cell_type": "code",
   "execution_count": null,
   "metadata": {
    "id": "YYpsitP1pXl4"
   },
   "outputs": [],
   "source": []
  },
  {
   "cell_type": "markdown",
   "metadata": {
    "id": "E3ympg2vpXl6"
   },
   "source": [
    "### 3. Paca cada valor de alpha obtido no item 2, treine uma árvore com o respectivo alfa, e guarde essa árvore em uma lista."
   ]
  },
  {
   "cell_type": "code",
   "execution_count": null,
   "metadata": {
    "id": "miumNbKtpXl7"
   },
   "outputs": [],
   "source": [
    "trees = []\n",
    "\n",
    "for ccp_alpha in ccp_alphas:\n",
    "    model = DecisionTreeRegressor(random_state=42, ccp_alpha=ccp_alpha)\n",
    "    model.fit(X_train, y_train)\n",
    "    trees.append(model)\n",
    "\n",
    "print(trees)"
   ]
  },
  {
   "cell_type": "code",
   "execution_count": null,
   "metadata": {
    "id": "BbX77Cy8pXl8"
   },
   "outputs": [],
   "source": []
  },
  {
   "cell_type": "markdown",
   "metadata": {
    "id": "a0JWQ2oNpXl8"
   },
   "source": [
    "### 4. Para cada árvore na lista, calcule o MSE da árvore."
   ]
  },
  {
   "cell_type": "code",
   "execution_count": null,
   "metadata": {
    "id": "L5bklbfCpXl9"
   },
   "outputs": [],
   "source": [
    "from sklearn.metrics import mean_squared_error\n",
    "\n",
    "mse_treino = []\n",
    "mse_teste = []\n",
    "\n",
    "for tree_model in trees:\n",
    "    y_train_pred = tree_model.predict(X_train)\n",
    "    y_test_pred = tree_model.predict(X_test)\n",
    "    \n",
    "    mse_treino.append(mean_squared_error(y_train, y_train_pred))\n",
    "    mse_teste.append(mean_squared_error(y_test, y_test_pred))\n",
    "\n",
    "for i in range(len(trees)):\n",
    "    print(f\"ccp_alpha: {ccp_alphas[i]:.5f} | MSE Treino: {mse_treino[i]:.2f} | MSE Teste: {mse_teste[i]:.2f}\")"
   ]
  },
  {
   "cell_type": "markdown",
   "metadata": {
    "id": "tL0aolqkpXl9"
   },
   "source": [
    "### 5. Monte um gráfico do MSE pelo alpha, escolha um valor de alpha perto do ponto de mínimo do MSE"
   ]
  },
  {
   "cell_type": "code",
   "execution_count": null,
   "metadata": {
    "id": "06zkHy8FpXl-"
   },
   "outputs": [],
   "source": [
    "\n",
    "plt.figure(figsize=(10, 6))\n",
    "\n",
    "# Plotando o MSE de treino\n",
    "plt.plot(ccp_alphas, mse_treino, marker='o', label='MSE Treinamento', color='blue')\n",
    "\n",
    "# Plotando o MSE de teste\n",
    "plt.plot(ccp_alphas, mse_teste, marker='o', label='MSE Teste', color='red')\n",
    "\n",
    "plt.xlabel(\"ccp_alpha\")\n",
    "plt.ylabel(\"Erro Quadrático Médio (MSE)\")\n",
    "plt.title(\"MSE em função do ccp_alpha\")\n",
    "plt.legend()\n",
    "plt.grid(True)\n",
    "plt.show()\n"
   ]
  },
  {
   "cell_type": "markdown",
   "metadata": {
    "id": "kHmscPlepXl_"
   },
   "source": [
    "### 6. Calcule o R-quadrado dessa árvore encontrada no item acima"
   ]
  },
  {
   "cell_type": "code",
   "execution_count": null,
   "metadata": {
    "id": "YB8wJkIwpXmA"
   },
   "outputs": [],
   "source": [
    "\n",
    "i = mse_teste.index(min(mse_teste))\n",
    "\n",
    "melhor_arvore = arvores_ccp[i]\n",
    "\n",
    "r2_treino = melhor_arvore.score(X_train, y_train)\n",
    "\n",
    "r2_teste = melhor_arvore.score(X_test, y_test)\n",
    "\n",
    "print(f\"R² (treinamento): {r2_treino:.4f}\")\n",
    "print(f\"R² (teste): {r2_teste:.4f}\")\n"
   ]
  },
  {
   "cell_type": "markdown",
   "metadata": {
    "id": "C7Q2N0zUpXmA"
   },
   "source": [
    "### 7. Visualize esta árvore."
   ]
  },
  {
   "cell_type": "code",
   "execution_count": null,
   "metadata": {
    "id": "hK-ymFkmpXmB"
   },
   "outputs": [],
   "source": []
  }
 ],
 "metadata": {
  "colab": {
   "provenance": []
  },
  "kernelspec": {
   "display_name": "Python 3 (ipykernel)",
   "language": "python",
   "name": "python3"
  },
  "language_info": {
   "codemirror_mode": {
    "name": "ipython",
    "version": 3
   },
   "file_extension": ".py",
   "mimetype": "text/x-python",
   "name": "python",
   "nbconvert_exporter": "python",
   "pygments_lexer": "ipython3",
   "version": "3.12.7"
  }
 },
 "nbformat": 4,
 "nbformat_minor": 4
}
