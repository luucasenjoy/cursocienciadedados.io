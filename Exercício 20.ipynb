{
 "cells": [
  {
   "cell_type": "code",
   "execution_count": null,
   "id": "61955faa-63ae-422f-909e-fc7548585781",
   "metadata": {},
   "outputs": [],
   "source": []
  },
  {
   "cell_type": "markdown",
   "id": "98c8f211-9e96-4ecf-b288-b8f7cdad92fb",
   "metadata": {},
   "source": [
    "<h1 style=\"color:#1f4e79;\">Fórmula de Bhaskara</h1>\n",
    "\n",
    "A solução para uma função de segundo grau depende das suas raízes (valores de x). Como já vimos, os coeficientes precisam ser números reais e o angular diferente de zero. Sendo assim, temos a seguinte fórmula de Bhaskara:\n",
    "\n",
    "<div align=\"center\" style=\"font-size: 24px;\">\n",
    "$$\n",
    "\\boldsymbol{x = \\frac{-b \\pm \\sqrt{b^2 - 4 \\cdot a \\cdot c}}{2 \\cdot a}}\n",
    "$$  \n",
    "<em style=\"font-size: 16px;\">Fórmula de Bhaskara.</em>\n",
    "</div>\n",
    "\n",
    "Para melhor compreensão o seu cálculo é dividido em duas partes: discriminante da equação e operações para determinar as raízes.\n",
    "\n",
    "### Discriminante\n",
    "\n",
    "A figura dentro da raiz na fórmula de Bhaskara é nomeada de discriminante. Seu símbolo é a letra grega delta e apresenta a determinada fórmula:\n",
    "\n",
    "<div align=\"center\" style=\"font-size: 24px;\">\n",
    "$$\n",
    "\\Delta = b^2 - 4 \\cdot a \\cdot c\n",
    "$$  \n",
    "<em style=\"font-size: 16px;\">Fórmula da discriminante.</em>\n",
    "</div>\n",
    "\n",
    "- Se o delta for maior que zero, a equação terá dois valores reais e distintos.  \n",
    "- Se o delta for igual a zero, a equação terá somente um valor real ou dois resultados iguais.  \n",
    "- Se o delta for menor que zero, a equação não possuirá valores reais.\n"
   ]
  },
  {
   "cell_type": "code",
   "execution_count": null,
   "id": "09b15b88-b8e4-4adc-9e3c-f3d9a3fbc73e",
   "metadata": {},
   "outputs": [],
   "source": []
  }
 ],
 "metadata": {
  "kernelspec": {
   "display_name": "Python [conda env:base] *",
   "language": "python",
   "name": "conda-base-py"
  },
  "language_info": {
   "codemirror_mode": {
    "name": "ipython",
    "version": 3
   },
   "file_extension": ".py",
   "mimetype": "text/x-python",
   "name": "python",
   "nbconvert_exporter": "python",
   "pygments_lexer": "ipython3",
   "version": "3.12.7"
  }
 },
 "nbformat": 4,
 "nbformat_minor": 5
}
