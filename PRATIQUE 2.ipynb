{
 "cells": [
  {
   "cell_type": "markdown",
   "id": "9bfda16e-8585-4002-a5de-2b24de2ef939",
   "metadata": {},
   "source": [
    "## 1. Monte um passo a passo para o algoritmo RF\n",
    "\n",
    "#### Bootstrap (amostragem com reposição):\n",
    "\n",
    "Criar várias amostras do conjunto de dados original com reposição.\n",
    "\n",
    "#### Seleção aleatória de features:\n",
    "\n",
    "Para cada divisão (split) de uma árvore, escolher aleatoriamente um subconjunto de features em vez de usar todas.\n",
    "\n",
    "#### Modelagem (criação das árvores):\n",
    "\n",
    "Treinar uma árvore de decisão sem poda (cresce até o fim) para cada amostra bootstrap e usando os subconjuntos de features.\n",
    "\n",
    "#### Agregação (ensemble):\n",
    "\n",
    "#### Classificação: usar votação majoritária entre as árvores.\n",
    "\n",
    "#### Regressão: usar a média das previsões."
   ]
  },
  {
   "cell_type": "markdown",
   "id": "7e4dc91c-569c-4ac0-8ecb-09b9078d4bdd",
   "metadata": {},
   "source": [
    "## 2. Explique com suas palavras o Random forest\n",
    "\n",
    "O Random Forest é uma coleção de árvores de decisão que trabalham juntas para fazer uma previsão melhor do que qualquer uma delas sozinha. Ele funciona como o Bagging, criando várias amostras dos dados, mas com um extra: cada árvore vê apenas uma parte aleatória das variáveis em cada decisão que ela toma. Isso evita que todas as árvores fiquem parecidas e melhora a diversidade do modelo. No final, todas as árvores \"votam\" e a maioria decide a resposta."
   ]
  },
  {
   "cell_type": "markdown",
   "id": "f55b6ce9-bf49-49ef-bf6e-a04f3f12594c",
   "metadata": {},
   "source": [
    "## 3. Qual a diferença entre Bagging e Random Forest?\n",
    "\n",
    "O Random Forest é um Bagging com mais aleatoriedade para reduzir o risco de todas as árvores tomarem decisões parecidas."
   ]
  },
  {
   "cell_type": "code",
   "execution_count": 1,
   "id": "2bac8ad2-9573-47a9-855c-7c502663c518",
   "metadata": {},
   "outputs": [
    {
     "name": "stdout",
     "output_type": "stream",
     "text": [
      "Acurácia da Random Forest (manual): 1.0\n"
     ]
    }
   ],
   "source": [
    "import numpy as np\n",
    "from sklearn.datasets import load_iris\n",
    "from sklearn.model_selection import train_test_split\n",
    "from sklearn.tree import DecisionTreeClassifier\n",
    "from sklearn.metrics import accuracy_score\n",
    "from sklearn.utils import resample\n",
    "from scipy.stats import mode\n",
    "\n",
    "X, y = load_iris(return_X_y=True)\n",
    "X_train, X_test, y_train, y_test = train_test_split(X, y, test_size=0.3, random_state=42)\n",
    "\n",
    "n_estimators = 10\n",
    "max_features = int(np.sqrt(X.shape[1])) \n",
    "random_state = 42\n",
    "np.random.seed(random_state)\n",
    "\n",
    "models = []\n",
    "\n",
    "for i in range(n_estimators):\n",
    "\n",
    "    X_sample, y_sample = resample(X_train, y_train, replace=True, random_state=random_state + i)\n",
    "\n",
    "    feature_indices = np.random.choice(X.shape[1], max_features, replace=False)\n",
    "\n",
    "    X_sample_sub = X_sample[:, feature_indices]\n",
    "    X_test_sub = X_test[:, feature_indices]\n",
    "\n",
    "    model = DecisionTreeClassifier(random_state=random_state + i)\n",
    "    model.fit(X_sample_sub, y_sample)\n",
    "\n",
    "    models.append((model, feature_indices))\n",
    "\n",
    "predictions = []\n",
    "for model, feature_indices in models:\n",
    "    pred = model.predict(X_test[:, feature_indices])\n",
    "    predictions.append(pred)\n",
    "\n",
    "predictions = np.array(predictions).T\n",
    "y_pred, _ = mode(predictions, axis=1)\n",
    "\n",
    "accuracy = accuracy_score(y_test, y_pred)\n",
    "print(\"Acurácia da Random Forest (manual):\", accuracy)"
   ]
  },
  {
   "cell_type": "code",
   "execution_count": null,
   "id": "5e199e6a-4517-43a6-8b6c-c3b8a45f08fc",
   "metadata": {},
   "outputs": [],
   "source": []
  }
 ],
 "metadata": {
  "kernelspec": {
   "display_name": "Python [conda env:base] *",
   "language": "python",
   "name": "conda-base-py"
  },
  "language_info": {
   "codemirror_mode": {
    "name": "ipython",
    "version": 3
   },
   "file_extension": ".py",
   "mimetype": "text/x-python",
   "name": "python",
   "nbconvert_exporter": "python",
   "pygments_lexer": "ipython3",
   "version": "3.12.7"
  }
 },
 "nbformat": 4,
 "nbformat_minor": 5
}
