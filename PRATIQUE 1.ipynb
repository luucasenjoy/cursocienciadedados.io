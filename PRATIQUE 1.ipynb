{
 "cells": [
  {
   "cell_type": "markdown",
   "id": "d78423e0-85ce-4216-9d43-2551b9adc055",
   "metadata": {},
   "source": [
    "## 1. Monte um passo a passo para o Bagging\n",
    "Bagging (Bootstrap Aggregating) é uma técnica de ensemble usada para melhorar a estabilidade e a acurácia de algoritmos de aprendizado de máquina. O processo pode ser dividido nos seguintes passos:\n",
    "\n",
    "Bootstrap (amostragem):\n",
    "\n",
    "Gerar várias amostras (com reposição) do conjunto de dados original.\n",
    "\n",
    "Cada amostra terá o mesmo tamanho que o conjunto original, mas com possíveis repetições de exemplos.\n",
    "\n",
    "Treinamento de modelos:\n",
    "\n",
    "Treinar um modelo base (por exemplo, uma árvore de decisão) em cada amostra bootstrap.\n",
    "\n",
    "Agregação:\n",
    "\n",
    "Para problemas de regressão: tirar a média das previsões dos modelos.\n",
    "\n",
    "Para problemas de classificação: usar votação majoritária (a classe mais votada entre os modelos).\n",
    "\n"
   ]
  },
  {
   "cell_type": "markdown",
   "id": "521f1318-97a9-434e-ae09-8367aeafde06",
   "metadata": {},
   "source": [
    "## 2. Explique com suas palavras o Bagging\n",
    "\n",
    "O Bagging é como uma votação de especialistas: em vez de confiar em apenas um modelo, ele cria vários modelos diferentes treinando cada um em subconjuntos variados dos dados. Esses subconjuntos são gerados aleatoriamente com reposição (bootstrap). Depois, cada modelo faz uma previsão e o resultado final é decidido por uma média (se for número) ou pela maioria dos votos (se for categoria). Essa técnica ajuda a reduzir o risco de overfitting e torna o modelo mais robusto.\n"
   ]
  },
  {
   "cell_type": "code",
   "execution_count": 3,
   "id": "04478378-f59a-456f-b753-7fcb6fbd8f8c",
   "metadata": {},
   "outputs": [
    {
     "name": "stdout",
     "output_type": "stream",
     "text": [
      "Acurácia do Bagging: 1.0\n"
     ]
    }
   ],
   "source": [
    "from sklearn.datasets import load_iris\n",
    "from sklearn.tree import DecisionTreeClassifier\n",
    "from sklearn.metrics import accuracy_score\n",
    "from sklearn.utils import resample\n",
    "import numpy as np\n",
    "\n",
    "X, y = load_iris(return_X_y=True)\n",
    "\n",
    "n_estimators = 10\n",
    "random_state = 42\n",
    "np.random.seed(random_state)\n",
    "\n",
    "from sklearn.model_selection import train_test_split\n",
    "X_train, X_test, y_train, y_test = train_test_split(X, y, test_size=0.3, random_state=random_state)\n",
    "\n",
    "models = []\n",
    "\n",
    "for i in range(n_estimators):\n",
    "    X_sample, y_sample = resample(X_train, y_train, replace=True, random_state=random_state + i)\n",
    "    model = DecisionTreeClassifier(random_state=random_state + i)\n",
    "    model.fit(X_sample, y_sample)\n",
    "    models.append(model)\n",
    "\n",
    "predictions = np.array([model.predict(X_test) for model in models])\n",
    "predictions = predictions.T\n",
    "\n",
    "from scipy.stats import mode\n",
    "y_pred, _ = mode(predictions, axis=1)\n",
    "\n",
    "accuracy = accuracy_score(y_test, y_pred)\n",
    "print(\"Acurácia do Bagging:\", accuracy)"
   ]
  },
  {
   "cell_type": "code",
   "execution_count": null,
   "id": "339a7268-c6f6-4d00-8776-07a0112acac1",
   "metadata": {},
   "outputs": [],
   "source": []
  }
 ],
 "metadata": {
  "kernelspec": {
   "display_name": "Python [conda env:base] *",
   "language": "python",
   "name": "conda-base-py"
  },
  "language_info": {
   "codemirror_mode": {
    "name": "ipython",
    "version": 3
   },
   "file_extension": ".py",
   "mimetype": "text/x-python",
   "name": "python",
   "nbconvert_exporter": "python",
   "pygments_lexer": "ipython3",
   "version": "3.12.7"
  }
 },
 "nbformat": 4,
 "nbformat_minor": 5
}
