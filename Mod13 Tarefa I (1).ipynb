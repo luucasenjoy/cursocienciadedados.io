{
 "cells": [
  {
   "cell_type": "markdown",
   "metadata": {},
   "source": [
    "# EBAC - Regressão II - regressão múltipla\n",
    "\n",
    "## Tarefa I"
   ]
  },
  {
   "cell_type": "markdown",
   "metadata": {},
   "source": [
    "#### Previsão de renda\n",
    "\n",
    "Vamos trabalhar com a base 'previsao_de_renda.csv', que é a base do seu próximo projeto. Vamos usar os recursos que vimos até aqui nesta base.\n",
    "\n",
    "|variavel|descrição|\n",
    "|-|-|\n",
    "|data_ref                | Data de referência de coleta das variáveis |\n",
    "|index                   | Código de identificação do cliente|\n",
    "|sexo                    | Sexo do cliente|\n",
    "|posse_de_veiculo        | Indica se o cliente possui veículo|\n",
    "|posse_de_imovel         | Indica se o cliente possui imóvel|\n",
    "|qtd_filhos              | Quantidade de filhos do cliente|\n",
    "|tipo_renda              | Tipo de renda do cliente|\n",
    "|educacao                | Grau de instrução do cliente|\n",
    "|estado_civil            | Estado civil do cliente|\n",
    "|tipo_residencia         | Tipo de residência do cliente (própria, alugada etc)|\n",
    "|idade                   | Idade do cliente|\n",
    "|tempo_emprego           | Tempo no emprego atual|\n",
    "|qt_pessoas_residencia   | Quantidade de pessoas que moram na residência|\n",
    "|renda                   | Renda em reais|"
   ]
  },
  {
   "cell_type": "code",
   "execution_count": 1,
   "metadata": {},
   "outputs": [],
   "source": [
    "import pandas as pd"
   ]
  },
  {
   "cell_type": "code",
   "execution_count": 2,
   "metadata": {},
   "outputs": [],
   "source": [
    "df = pd.read_csv('previsao_de_renda.csv')"
   ]
  },
  {
   "cell_type": "code",
   "execution_count": 3,
   "metadata": {},
   "outputs": [
    {
     "name": "stdout",
     "output_type": "stream",
     "text": [
      "<class 'pandas.core.frame.DataFrame'>\n",
      "RangeIndex: 15000 entries, 0 to 14999\n",
      "Data columns (total 16 columns):\n",
      " #   Column                 Non-Null Count  Dtype  \n",
      "---  ------                 --------------  -----  \n",
      " 0   Unnamed: 0             15000 non-null  int64  \n",
      " 1   data_ref               15000 non-null  object \n",
      " 2   index                  15000 non-null  int64  \n",
      " 3   sexo                   15000 non-null  object \n",
      " 4   posse_de_veiculo       15000 non-null  bool   \n",
      " 5   posse_de_imovel        15000 non-null  bool   \n",
      " 6   qtd_filhos             15000 non-null  int64  \n",
      " 7   tipo_renda             15000 non-null  object \n",
      " 8   educacao               15000 non-null  object \n",
      " 9   estado_civil           15000 non-null  object \n",
      " 10  tipo_residencia        15000 non-null  object \n",
      " 11  idade                  15000 non-null  int64  \n",
      " 12  tempo_emprego          12466 non-null  float64\n",
      " 13  qt_pessoas_residencia  15000 non-null  float64\n",
      " 14  mau                    15000 non-null  bool   \n",
      " 15  renda                  15000 non-null  float64\n",
      "dtypes: bool(3), float64(3), int64(4), object(6)\n",
      "memory usage: 1.5+ MB\n"
     ]
    }
   ],
   "source": [
    "df.info()"
   ]
  },
  {
   "cell_type": "markdown",
   "metadata": {},
   "source": [
    "1. Ajuste um modelo para prever log(renda) considerando todas as covariáveis disponíveis.\n",
    "    - Utilizando os recursos do Patsy, coloque as variáveis qualitativas como *dummies*.\n",
    "    - Mantenha sempre a categoria mais frequente como casela de referência\n",
    "    - Avalie os parâmetros e veja se parecem fazer sentido prático.\n",
    "\n",
    "2. Remova a variável menos significante e analise:\n",
    "    - Observe os indicadores que vimos, e avalie se o modelo melhorou ou piorou na sua opinião.\n",
    "    - Observe os parâmetros e veja se algum se alterou muito.\n",
    "\n",
    "3. Siga removendo as variáveis menos significantes, sempre que o *p-value* for menor que 5%. Compare o modelo final com o inicial. Observe os indicadores e conclua se o modelo parece melhor. \n",
    "    "
   ]
  },
  {
   "cell_type": "code",
   "execution_count": null,
   "metadata": {},
   "outputs": [],
   "source": [
    "import pandas as pd\n",
    "import numpy as np\n",
    "import statsmodels.formula.api as smf\n",
    "\n",
    "df = pd.read_csv('previsao_de_renda.csv')\n",
    "\n",
    "df['data_ref'] = pd.to_datetime(df['data_ref'])\n",
    "\n",
    "df['log_renda'] = np.log(df['renda'])\n",
    "\n",
    "categorical_cols = df.select_dtypes(include='object').columns.tolist()\n",
    "\n",
    "df_dummies = pd.get_dummies(df[categorical_cols], drop_first=True)\n",
    "\n",
    "df_model = pd.concat([df, df_dummies], axis=1)\n",
    "\n",
    "\n",
    "df_model = df_model.drop(columns=categorical_cols)\n",
    "\n",
    "# Renomear as colunas problemáticas para evitar erros de sintaxe\n",
    "def sanitize_column_name(name):\n",
    "    return ''.join(c if c.isalnum() else '_' for c in name)\n",
    "\n",
    "df_model.columns = [sanitize_column_name(col) for col in df_model.columns]\n",
    "\n",
    "formula_inicial = 'log_renda ~ ' + '+'.join(df_model.columns.drop(['log_renda', 'data_ref', 'index', 'renda']))\n",
    "modelo_inicial = smf.ols(formula_inicial, data=df_model).fit()\n",
    "\n",
    "print(\"Modelo Inicial:\")\n",
    "print(modelo_inicial.summary())\n",
    "\n",
    "def avaliar_modelo(modelo, nome=\"Modelo\"):\n",
    "    print(f\"\\n{nome}:\")\n",
    "    print(modelo.summary())\n",
    "    print(f\"AIC: {modelo.aic:.2f}\")\n",
    "    print(f\"BIC: {modelo.bic:.2f}\")\n",
    "\n",
    "avaliar_modelo(modelo_inicial, \"Modelo Inicial\")\n",
    "\n",
    "modelo_atual = modelo_inicial\n",
    "historico_modelos = [modelo_inicial]\n",
    "\n",
    "while True:\n",
    "    p_values = modelo_atual.pvalues.drop('Intercept')\n",
    "    if p_values.empty:\n",
    "        print(\"\\nNão há mais variáveis para remover.\")\n",
    "        modelo_final = modelo_atual\n",
    "        break\n",
    "    variavel_menos_significante = p_values.idxmax()\n",
    "    p_value_max = p_values.max()\n",
    "\n",
    "    if p_value_max > 0.05:\n",
    "        formula_atual = modelo_atual.model.formula.replace(f'+{variavel_menos_significante}', '').replace(variavel_menos_significante, '')\n",
    "\n",
    "        if formula_atual.count('~') == 1 and formula_atual.split('~')[1].strip() == '':\n",
    "            print(\"\\nParando a remoção de variáveis para evitar modelo sem preditores.\")\n",
    "            modelo_final = modelo_atual\n",
    "            break\n",
    "\n",
    "        try:\n",
    "            modelo_atual = smf.ols(formula_atual, data=df_model).fit()\n",
    "            historico_modelos.append(modelo_atual)\n",
    "            print(f\"\\nRemovendo a variável: {variavel_menos_significante} (p-value: {p_value_max:.3f})\")\n",
    "            avaliar_modelo(modelo_atual, \"Modelo Atual\")\n",
    "        except Exception as e:\n",
    "            print(f\"\\nErro ao ajustar o modelo após remover {variavel_menos_significante}: {e}\")\n",
    "            modelo_final = historico_modelos[-1] # Reverte para o modelo anterior\n",
    "            break\n",
    "    else:\n",
    "        print(\"\\nNenhuma variável com p-value > 0.05 encontrada. Modelo final obtido.\")\n",
    "        modelo_final = modelo_atual\n",
    "        break\n",
    "\n",
    "print(\"\\nComparação do Modelo Final com o Modelo Inicial:\")\n",
    "avaliar_modelo(modelo_inicial, \"Modelo Inicial\")\n",
    "avaliar_modelo(modelo_final, \"Modelo Final\")\n",
    "\n"
   ]
  },
  {
   "cell_type": "code",
   "execution_count": null,
   "metadata": {},
   "outputs": [],
   "source": []
  }
 ],
 "metadata": {
  "kernelspec": {
   "display_name": "Python 3 (ipykernel)",
   "language": "python",
   "name": "python3"
  },
  "language_info": {
   "codemirror_mode": {
    "name": "ipython",
    "version": 3
   },
   "file_extension": ".py",
   "mimetype": "text/x-python",
   "name": "python",
   "nbconvert_exporter": "python",
   "pygments_lexer": "ipython3",
   "version": "3.12.7"
  }
 },
 "nbformat": 4,
 "nbformat_minor": 4
}
